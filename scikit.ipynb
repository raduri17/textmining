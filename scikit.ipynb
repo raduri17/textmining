{
  "nbformat": 4,
  "nbformat_minor": 0,
  "metadata": {
    "colab": {
      "provenance": [],
      "gpuType": "T4"
    },
    "kernelspec": {
      "name": "python3",
      "display_name": "Python 3"
    },
    "language_info": {
      "name": "python"
    },
    "accelerator": "GPU"
  },
  "cells": [
    {
      "cell_type": "markdown",
      "source": [
        "### **Importing necessary libraries**"
      ],
      "metadata": {
        "id": "JP5aSKCPtjQ7"
      }
    },
    {
      "cell_type": "code",
      "source": [
        "from sklearn.neighbors import KNeighborsRegressor\n",
        "from sklearn.linear_model import LinearRegression\n",
        "from sklearn.pipeline import Pipeline\n",
        "from sklearn.datasets import load_digits\n",
        "from sklearn.preprocessing import StandardScaler\n",
        "from sklearn.model_selection import GridSearchCV\n",
        "import pandas as pd\n",
        "import matplotlib.pylab as plt"
      ],
      "metadata": {
        "id": "25Mwpfv4gVZe"
      },
      "execution_count": 1,
      "outputs": []
    },
    {
      "cell_type": "markdown",
      "source": [
        "### **Giving the data to the model**\n",
        "\n",
        "Using digits data from sklearn toy datasets"
      ],
      "metadata": {
        "id": "5nCfYMDMuOvi"
      }
    },
    {
      "cell_type": "code",
      "source": [
        "X, y = load_digits(return_X_y=True)"
      ],
      "metadata": {
        "id": "uh0T5eXogNOL"
      },
      "execution_count": 2,
      "outputs": []
    },
    {
      "cell_type": "markdown",
      "source": [
        "### **Running Linear Regression**\n",
        "\n",
        "LR is a fundamental linear model used for predictive analysis in machine learning, aiming to establish a linear relationship between independent variables and a continuous target variable."
      ],
      "metadata": {
        "id": "UBEVVh_X6YSN"
      }
    },
    {
      "cell_type": "code",
      "source": [
        "mod = LinearRegression()\n",
        "mod.fit(X, y)"
      ],
      "metadata": {
        "colab": {
          "base_uri": "https://localhost:8080/",
          "height": 75
        },
        "id": "brpDxrkwgO4O",
        "outputId": "03f4162a-4bc0-483a-884d-c7a089e3827d"
      },
      "execution_count": 3,
      "outputs": [
        {
          "output_type": "execute_result",
          "data": {
            "text/plain": [
              "LinearRegression()"
            ],
            "text/html": [
              "<style>#sk-container-id-1 {color: black;background-color: white;}#sk-container-id-1 pre{padding: 0;}#sk-container-id-1 div.sk-toggleable {background-color: white;}#sk-container-id-1 label.sk-toggleable__label {cursor: pointer;display: block;width: 100%;margin-bottom: 0;padding: 0.3em;box-sizing: border-box;text-align: center;}#sk-container-id-1 label.sk-toggleable__label-arrow:before {content: \"▸\";float: left;margin-right: 0.25em;color: #696969;}#sk-container-id-1 label.sk-toggleable__label-arrow:hover:before {color: black;}#sk-container-id-1 div.sk-estimator:hover label.sk-toggleable__label-arrow:before {color: black;}#sk-container-id-1 div.sk-toggleable__content {max-height: 0;max-width: 0;overflow: hidden;text-align: left;background-color: #f0f8ff;}#sk-container-id-1 div.sk-toggleable__content pre {margin: 0.2em;color: black;border-radius: 0.25em;background-color: #f0f8ff;}#sk-container-id-1 input.sk-toggleable__control:checked~div.sk-toggleable__content {max-height: 200px;max-width: 100%;overflow: auto;}#sk-container-id-1 input.sk-toggleable__control:checked~label.sk-toggleable__label-arrow:before {content: \"▾\";}#sk-container-id-1 div.sk-estimator input.sk-toggleable__control:checked~label.sk-toggleable__label {background-color: #d4ebff;}#sk-container-id-1 div.sk-label input.sk-toggleable__control:checked~label.sk-toggleable__label {background-color: #d4ebff;}#sk-container-id-1 input.sk-hidden--visually {border: 0;clip: rect(1px 1px 1px 1px);clip: rect(1px, 1px, 1px, 1px);height: 1px;margin: -1px;overflow: hidden;padding: 0;position: absolute;width: 1px;}#sk-container-id-1 div.sk-estimator {font-family: monospace;background-color: #f0f8ff;border: 1px dotted black;border-radius: 0.25em;box-sizing: border-box;margin-bottom: 0.5em;}#sk-container-id-1 div.sk-estimator:hover {background-color: #d4ebff;}#sk-container-id-1 div.sk-parallel-item::after {content: \"\";width: 100%;border-bottom: 1px solid gray;flex-grow: 1;}#sk-container-id-1 div.sk-label:hover label.sk-toggleable__label {background-color: #d4ebff;}#sk-container-id-1 div.sk-serial::before {content: \"\";position: absolute;border-left: 1px solid gray;box-sizing: border-box;top: 0;bottom: 0;left: 50%;z-index: 0;}#sk-container-id-1 div.sk-serial {display: flex;flex-direction: column;align-items: center;background-color: white;padding-right: 0.2em;padding-left: 0.2em;position: relative;}#sk-container-id-1 div.sk-item {position: relative;z-index: 1;}#sk-container-id-1 div.sk-parallel {display: flex;align-items: stretch;justify-content: center;background-color: white;position: relative;}#sk-container-id-1 div.sk-item::before, #sk-container-id-1 div.sk-parallel-item::before {content: \"\";position: absolute;border-left: 1px solid gray;box-sizing: border-box;top: 0;bottom: 0;left: 50%;z-index: -1;}#sk-container-id-1 div.sk-parallel-item {display: flex;flex-direction: column;z-index: 1;position: relative;background-color: white;}#sk-container-id-1 div.sk-parallel-item:first-child::after {align-self: flex-end;width: 50%;}#sk-container-id-1 div.sk-parallel-item:last-child::after {align-self: flex-start;width: 50%;}#sk-container-id-1 div.sk-parallel-item:only-child::after {width: 0;}#sk-container-id-1 div.sk-dashed-wrapped {border: 1px dashed gray;margin: 0 0.4em 0.5em 0.4em;box-sizing: border-box;padding-bottom: 0.4em;background-color: white;}#sk-container-id-1 div.sk-label label {font-family: monospace;font-weight: bold;display: inline-block;line-height: 1.2em;}#sk-container-id-1 div.sk-label-container {text-align: center;}#sk-container-id-1 div.sk-container {/* jupyter's `normalize.less` sets `[hidden] { display: none; }` but bootstrap.min.css set `[hidden] { display: none !important; }` so we also need the `!important` here to be able to override the default hidden behavior on the sphinx rendered scikit-learn.org. See: https://github.com/scikit-learn/scikit-learn/issues/21755 */display: inline-block !important;position: relative;}#sk-container-id-1 div.sk-text-repr-fallback {display: none;}</style><div id=\"sk-container-id-1\" class=\"sk-top-container\"><div class=\"sk-text-repr-fallback\"><pre>LinearRegression()</pre><b>In a Jupyter environment, please rerun this cell to show the HTML representation or trust the notebook. <br />On GitHub, the HTML representation is unable to render, please try loading this page with nbviewer.org.</b></div><div class=\"sk-container\" hidden><div class=\"sk-item\"><div class=\"sk-estimator sk-toggleable\"><input class=\"sk-toggleable__control sk-hidden--visually\" id=\"sk-estimator-id-1\" type=\"checkbox\" checked><label for=\"sk-estimator-id-1\" class=\"sk-toggleable__label sk-toggleable__label-arrow\">LinearRegression</label><div class=\"sk-toggleable__content\"><pre>LinearRegression()</pre></div></div></div></div></div>"
            ]
          },
          "metadata": {},
          "execution_count": 3
        }
      ]
    },
    {
      "cell_type": "markdown",
      "source": [
        "### **Another Model - KNN**\n",
        "\n",
        "It predicts the target variable by averaging the values of its k nearest neighbors, where k is a hyperparameter specified by the user."
      ],
      "metadata": {
        "id": "g6XI8aK26e7o"
      }
    },
    {
      "cell_type": "code",
      "source": [
        "mod = KNeighborsRegressor()\n",
        "mod.fit(X, y)\n",
        "pred_knn = mod.predict(X)\n",
        "plt.scatter(pred_knn, y)"
      ],
      "metadata": {
        "colab": {
          "base_uri": "https://localhost:8080/",
          "height": 448
        },
        "id": "-6-6tQsAiyQL",
        "outputId": "9574524e-9b8b-42a2-8c04-c996561f8184"
      },
      "execution_count": 4,
      "outputs": [
        {
          "output_type": "execute_result",
          "data": {
            "text/plain": [
              "<matplotlib.collections.PathCollection at 0x7f53f7edffd0>"
            ]
          },
          "metadata": {},
          "execution_count": 4
        },
        {
          "output_type": "display_data",
          "data": {
            "text/plain": [
              "<Figure size 640x480 with 1 Axes>"
            ],
            "image/png": "[encoded data removed]"
          },
          "metadata": {}
        }
      ]
    },
    {
      "cell_type": "markdown",
      "source": [
        "### **Pipeline**\n",
        "\n",
        "Pipeline is a sequence of data processing components, typically including data preprocessing, feature selection, and model training. Pipelines are commonly used to automate and streamline the machine learning workflow, ensuring consistency in data preprocessing and facilitating model evaluation and deployment. Scikit-learn provides a 'Pipeline' class that allows users to construct and manage such sequences of transformations and estimators.\n",
        "\n",
        "--> scale, StandardScaler: This part of the pipeline represents a preprocessing step where the data is scaled using StandardScaler(), which standardizes features by removing the mean and scaling to unit variance.\n",
        "\n",
        "--> model, KNeighborsRegressor: This component represents the main model in the pipeline, a KNeighborsRegressor() instance, which performs regression by predicting the target variable based on the average of the values of its nearest neighbors."
      ],
      "metadata": {
        "id": "xO8TS_sM-dLs"
      }
    },
    {
      "cell_type": "code",
      "source": [
        "pipe = Pipeline([\n",
        "    (\"scale\", StandardScaler()),\n",
        "    (\"model\", KNeighborsRegressor())\n",
        "])\n",
        "pred = pipe.fit(X, y).predict(X)\n",
        "plt.scatter(pred, y)"
      ],
      "metadata": {
        "colab": {
          "base_uri": "https://localhost:8080/",
          "height": 448
        },
        "id": "E3TOblpui-I-",
        "outputId": "8b8fc5c5-58bb-4440-ec17-86256d3848c9"
      },
      "execution_count": 5,
      "outputs": [
        {
          "output_type": "execute_result",
          "data": {
            "text/plain": [
              "<matplotlib.collections.PathCollection at 0x7f53f14387c0>"
            ]
          },
          "metadata": {},
          "execution_count": 5
        },
        {
          "output_type": "display_data",
          "data": {
            "text/plain": [
              "<Figure size 640x480 with 1 Axes>"
            ],
            "image/png": "[encoded data removed]"
          },
          "metadata": {}
        }
      ]
    },
    {
      "cell_type": "markdown",
      "source": [
        "### Checking the effect of **\"n_neighbors\"**\n",
        "\n",
        "n_neighbors is a hyperparameter that specifies the number of nearest neighbors to consider when making predictions for a new data point.\n",
        "In our case it is set to 2. The algorithm will consider the 2 nearest neighbors to the new data point and use them to make a prediction. The predicted value could be the average (for regression tasks) or the most common class (for classification tasks) among these neighbors\n",
        "\n"
      ],
      "metadata": {
        "id": "JAWPFHN0_Hua"
      }
    },
    {
      "cell_type": "code",
      "source": [
        "pipe = Pipeline([\n",
        "    (\"scale\", StandardScaler()),\n",
        "    (\"model\", KNeighborsRegressor(n_neighbors=2))\n",
        "])\n",
        "pred = pipe.fit(X, y).predict(X)\n",
        "plt.scatter(pred, y)"
      ],
      "metadata": {
        "colab": {
          "base_uri": "https://localhost:8080/",
          "height": 448
        },
        "id": "R07_4Ad2lWmU",
        "outputId": "f08415ff-9d9e-4f93-eb9f-d666351c94d6"
      },
      "execution_count": 6,
      "outputs": [
        {
          "output_type": "execute_result",
          "data": {
            "text/plain": [
              "<matplotlib.collections.PathCollection at 0x7f53f14a8340>"
            ]
          },
          "metadata": {},
          "execution_count": 6
        },
        {
          "output_type": "display_data",
          "data": {
            "text/plain": [
              "<Figure size 640x480 with 1 Axes>"
            ],
            "image/png": "[encoded data removed]"
          },
          "metadata": {}
        }
      ]
    },
    {
      "cell_type": "markdown",
      "source": [
        "### **Grid Search**\n",
        "\n",
        "This is a technique for systematically searching for the best combination of hyperparameters for a given model. It exhaustively considers all parameter combinations by constructing a grid of values and evaluating the model performance for each combination.\n",
        "The values [1, 2, 3, 4, 5, 6, 7, 8, 9, 10] represent the range of values for n_neighbors to be explored.\n",
        "cv=3-number of folds for cross-validation. In this case, it is 3.\n"
      ],
      "metadata": {
        "id": "juWqXoco__rB"
      }
    },
    {
      "cell_type": "code",
      "source": [
        "mod = GridSearchCV(estimator=pipe,\n",
        "                   param_grid={\n",
        "                     'model__n_neighbors': [1, 2, 3, 4, 5, 6, 7, 8, 9, 10]\n",
        "                   },\n",
        "                   cv=3)\n",
        "mod.fit(X, y);"
      ],
      "metadata": {
        "id": "cAeO8ibomdkH"
      },
      "execution_count": 7,
      "outputs": []
    },
    {
      "cell_type": "markdown",
      "source": [
        "### **Model Fit Statistics**\n",
        "When n_neighbors is set to 4, is when the model is giving the best results."
      ],
      "metadata": {
        "id": "aOKawkOcAzrD"
      }
    },
    {
      "cell_type": "code",
      "source": [
        "pd.DataFrame(mod.cv_results_)"
      ],
      "metadata": {
        "colab": {
          "base_uri": "https://localhost:8080/",
          "height": 557
        },
        "id": "LD2Po09UmlC7",
        "outputId": "0d781674-0ec2-4bac-ef43-94aa4583bf69"
      },
      "execution_count": 8,
      "outputs": [
        {
          "output_type": "execute_result",
          "data": {
            "text/plain": [
              "   mean_fit_time  std_fit_time  mean_score_time  std_score_time  \\\n",
              "0       0.003908      0.003153         0.050920        0.039249   \n",
              "1       0.001779      0.000162         0.168880        0.038898   \n",
              "2       0.001881      0.000352         0.073286        0.045589   \n",
              "3       0.004025      0.003268         0.080698        0.049312   \n",
              "4       0.004746      0.001328         0.051749        0.015910   \n",
              "5       0.007191      0.000265         0.035270        0.009403   \n",
              "6       0.009025      0.005162         0.058549        0.029430   \n",
              "7       0.007947      0.003063         0.093944        0.039076   \n",
              "8       0.002446      0.001114         0.124566        0.078963   \n",
              "9       0.001489      0.000202         0.030750        0.034443   \n",
              "\n",
              "  param_model__n_neighbors                      params  split0_test_score  \\\n",
              "0                        1   {'model__n_neighbors': 1}           0.774883   \n",
              "1                        2   {'model__n_neighbors': 2}           0.841431   \n",
              "2                        3   {'model__n_neighbors': 3}           0.848177   \n",
              "3                        4   {'model__n_neighbors': 4}           0.861164   \n",
              "4                        5   {'model__n_neighbors': 5}           0.851978   \n",
              "5                        6   {'model__n_neighbors': 6}           0.864336   \n",
              "6                        7   {'model__n_neighbors': 7}           0.861618   \n",
              "7                        8   {'model__n_neighbors': 8}           0.862366   \n",
              "8                        9   {'model__n_neighbors': 9}           0.852945   \n",
              "9                       10  {'model__n_neighbors': 10}           0.853633   \n",
              "\n",
              "   split1_test_score  split2_test_score  mean_test_score  std_test_score  \\\n",
              "0           0.836414           0.834303         0.815200        0.028522   \n",
              "1           0.852661           0.904611         0.866234        0.027521   \n",
              "2           0.864278           0.903994         0.872150        0.023457   \n",
              "3           0.865673           0.902375         0.876404        0.018456   \n",
              "4           0.863321           0.895722         0.870340        0.018535   \n",
              "5           0.856220           0.896131         0.872229        0.017223   \n",
              "6           0.854641           0.888639         0.868299        0.014662   \n",
              "7           0.847335           0.885502         0.865068        0.015698   \n",
              "8           0.844077           0.884035         0.860352        0.017133   \n",
              "9           0.832109           0.876198         0.853980        0.018001   \n",
              "\n",
              "   rank_test_score  \n",
              "0               10  \n",
              "1                6  \n",
              "2                3  \n",
              "3                1  \n",
              "4                4  \n",
              "5                2  \n",
              "6                5  \n",
              "7                7  \n",
              "8                8  \n",
              "9                9  "
            ],
            "text/html": [
              "\n",
              "  <div id=\"df-f859e2fb-cc5d-423d-97b8-6db175248826\" class=\"colab-df-container\">\n",
              "    <div>\n",
              "<style scoped>\n",
              "    .dataframe tbody tr th:only-of-type {\n",
              "        vertical-align: middle;\n",
              "    }\n",
              "\n",
              "    .dataframe tbody tr th {\n",
              "        vertical-align: top;\n",
              "    }\n",
              "\n",
              "    .dataframe thead th {\n",
              "        text-align: right;\n",
              "    }\n",
              "</style>\n",
              "<table border=\"1\" class=\"dataframe\">\n",
              "  <thead>\n",
              "    <tr style=\"text-align: right;\">\n",
              "      <th></th>\n",
              "      <th>mean_fit_time</th>\n",
              "      <th>std_fit_time</th>\n",
              "      <th>mean_score_time</th>\n",
              "      <th>std_score_time</th>\n",
              "      <th>param_model__n_neighbors</th>\n",
              "      <th>params</th>\n",
              "      <th>split0_test_score</th>\n",
              "      <th>split1_test_score</th>\n",
              "      <th>split2_test_score</th>\n",
              "      <th>mean_test_score</th>\n",
              "      <th>std_test_score</th>\n",
              "      <th>rank_test_score</th>\n",
              "    </tr>\n",
              "  </thead>\n",
              "  <tbody>\n",
              "    <tr>\n",
              "      <th>0</th>\n",
              "      <td>0.003908</td>\n",
              "      <td>0.003153</td>\n",
              "      <td>0.050920</td>\n",
              "      <td>0.039249</td>\n",
              "      <td>1</td>\n",
              "      <td>{'model__n_neighbors': 1}</td>\n",
              "      <td>0.774883</td>\n",
              "      <td>0.836414</td>\n",
              "      <td>0.834303</td>\n",
              "      <td>0.815200</td>\n",
              "      <td>0.028522</td>\n",
              "      <td>10</td>\n",
              "    </tr>\n",
              "    <tr>\n",
              "      <th>1</th>\n",
              "      <td>0.001779</td>\n",
              "      <td>0.000162</td>\n",
              "      <td>0.168880</td>\n",
              "      <td>0.038898</td>\n",
              "      <td>2</td>\n",
              "      <td>{'model__n_neighbors': 2}</td>\n",
              "      <td>0.841431</td>\n",
              "      <td>0.852661</td>\n",
              "      <td>0.904611</td>\n",
              "      <td>0.866234</td>\n",
              "      <td>0.027521</td>\n",
              "      <td>6</td>\n",
              "    </tr>\n",
              "    <tr>\n",
              "      <th>2</th>\n",
              "      <td>0.001881</td>\n",
              "      <td>0.000352</td>\n",
              "      <td>0.073286</td>\n",
              "      <td>0.045589</td>\n",
              "      <td>3</td>\n",
              "      <td>{'model__n_neighbors': 3}</td>\n",
              "      <td>0.848177</td>\n",
              "      <td>0.864278</td>\n",
              "      <td>0.903994</td>\n",
              "      <td>0.872150</td>\n",
              "      <td>0.023457</td>\n",
              "      <td>3</td>\n",
              "    </tr>\n",
              "    <tr>\n",
              "      <th>3</th>\n",
              "      <td>0.004025</td>\n",
              "      <td>0.003268</td>\n",
              "      <td>0.080698</td>\n",
              "      <td>0.049312</td>\n",
              "      <td>4</td>\n",
              "      <td>{'model__n_neighbors': 4}</td>\n",
              "      <td>0.861164</td>\n",
              "      <td>0.865673</td>\n",
              "      <td>0.902375</td>\n",
              "      <td>0.876404</td>\n",
              "      <td>0.018456</td>\n",
              "      <td>1</td>\n",
              "    </tr>\n",
              "    <tr>\n",
              "      <th>4</th>\n",
              "      <td>0.004746</td>\n",
              "      <td>0.001328</td>\n",
              "      <td>0.051749</td>\n",
              "      <td>0.015910</td>\n",
              "      <td>5</td>\n",
              "      <td>{'model__n_neighbors': 5}</td>\n",
              "      <td>0.851978</td>\n",
              "      <td>0.863321</td>\n",
              "      <td>0.895722</td>\n",
              "      <td>0.870340</td>\n",
              "      <td>0.018535</td>\n",
              "      <td>4</td>\n",
              "    </tr>\n",
              "    <tr>\n",
              "      <th>5</th>\n",
              "      <td>0.007191</td>\n",
              "      <td>0.000265</td>\n",
              "      <td>0.035270</td>\n",
              "      <td>0.009403</td>\n",
              "      <td>6</td>\n",
              "      <td>{'model__n_neighbors': 6}</td>\n",
              "      <td>0.864336</td>\n",
              "      <td>0.856220</td>\n",
              "      <td>0.896131</td>\n",
              "      <td>0.872229</td>\n",
              "      <td>0.017223</td>\n",
              "      <td>2</td>\n",
              "    </tr>\n",
              "    <tr>\n",
              "      <th>6</th>\n",
              "      <td>0.009025</td>\n",
              "      <td>0.005162</td>\n",
              "      <td>0.058549</td>\n",
              "      <td>0.029430</td>\n",
              "      <td>7</td>\n",
              "      <td>{'model__n_neighbors': 7}</td>\n",
              "      <td>0.861618</td>\n",
              "      <td>0.854641</td>\n",
              "      <td>0.888639</td>\n",
              "      <td>0.868299</td>\n",
              "      <td>0.014662</td>\n",
              "      <td>5</td>\n",
              "    </tr>\n",
              "    <tr>\n",
              "      <th>7</th>\n",
              "      <td>0.007947</td>\n",
              "      <td>0.003063</td>\n",
              "      <td>0.093944</td>\n",
              "      <td>0.039076</td>\n",
              "      <td>8</td>\n",
              "      <td>{'model__n_neighbors': 8}</td>\n",
              "      <td>0.862366</td>\n",
              "      <td>0.847335</td>\n",
              "      <td>0.885502</td>\n",
              "      <td>0.865068</td>\n",
              "      <td>0.015698</td>\n",
              "      <td>7</td>\n",
              "    </tr>\n",
              "    <tr>\n",
              "      <th>8</th>\n",
              "      <td>0.002446</td>\n",
              "      <td>0.001114</td>\n",
              "      <td>0.124566</td>\n",
              "      <td>0.078963</td>\n",
              "      <td>9</td>\n",
              "      <td>{'model__n_neighbors': 9}</td>\n",
              "      <td>0.852945</td>\n",
              "      <td>0.844077</td>\n",
              "      <td>0.884035</td>\n",
              "      <td>0.860352</td>\n",
              "      <td>0.017133</td>\n",
              "      <td>8</td>\n",
              "    </tr>\n",
              "    <tr>\n",
              "      <th>9</th>\n",
              "      <td>0.001489</td>\n",
              "      <td>0.000202</td>\n",
              "      <td>0.030750</td>\n",
              "      <td>0.034443</td>\n",
              "      <td>10</td>\n",
              "      <td>{'model__n_neighbors': 10}</td>\n",
              "      <td>0.853633</td>\n",
              "      <td>0.832109</td>\n",
              "      <td>0.876198</td>\n",
              "      <td>0.853980</td>\n",
              "      <td>0.018001</td>\n",
              "      <td>9</td>\n",
              "    </tr>\n",
              "  </tbody>\n",
              "</table>\n",
              "</div>\n",
              "    <div class=\"colab-df-buttons\">\n",
              "\n",
              "  <div class=\"colab-df-container\">\n",
              "    <button class=\"colab-df-convert\" onclick=\"convertToInteractive('df-f859e2fb-cc5d-423d-97b8-6db175248826')\"\n",
              "            title=\"Convert this dataframe to an interactive table.\"\n",
              "            style=\"display:none;\">\n",
              "\n",
              "  <svg xmlns=\"http://www.w3.org/2000/svg\" height=\"24px\" viewBox=\"0 -960 960 960\">\n",
              "    <path d=\"M120-120v-720h720v720H120Zm60-500h600v-160H180v160Zm220 220h160v-160H400v160Zm0 220h160v-160H400v160ZM180-400h160v-160H180v160Zm440 0h160v-160H620v160ZM180-180h160v-160H180v160Zm440 0h160v-160H620v160Z\"/>\n",
              "  </svg>\n",
              "    </button>\n",
              "\n",
              "  <style>\n",
              "    .colab-df-container {\n",
              "      display:flex;\n",
              "      gap: 12px;\n",
              "    }\n",
              "\n",
              "    .colab-df-convert {\n",
              "      background-color: #E8F0FE;\n",
              "      border: none;\n",
              "      border-radius: 50%;\n",
              "      cursor: pointer;\n",
              "      display: none;\n",
              "      fill: #1967D2;\n",
              "      height: 32px;\n",
              "      padding: 0 0 0 0;\n",
              "      width: 32px;\n",
              "    }\n",
              "\n",
              "    .colab-df-convert:hover {\n",
              "      background-color: #E2EBFA;\n",
              "      box-shadow: 0px 1px 2px rgba(60, 64, 67, 0.3), 0px 1px 3px 1px rgba(60, 64, 67, 0.15);\n",
              "      fill: #174EA6;\n",
              "    }\n",
              "\n",
              "    .colab-df-buttons div {\n",
              "      margin-bottom: 4px;\n",
              "    }\n",
              "\n",
              "    [theme=dark] .colab-df-convert {\n",
              "      background-color: #3B4455;\n",
              "      fill: #D2E3FC;\n",
              "    }\n",
              "\n",
              "    [theme=dark] .colab-df-convert:hover {\n",
              "      background-color: #434B5C;\n",
              "      box-shadow: 0px 1px 3px 1px rgba(0, 0, 0, 0.15);\n",
              "      filter: drop-shadow(0px 1px 2px rgba(0, 0, 0, 0.3));\n",
              "      fill: #FFFFFF;\n",
              "    }\n",
              "  </style>\n",
              "\n",
              "    <script>\n",
              "      const buttonEl =\n",
              "        document.querySelector('#df-f859e2fb-cc5d-423d-97b8-6db175248826 button.colab-df-convert');\n",
              "      buttonEl.style.display =\n",
              "        google.colab.kernel.accessAllowed ? 'block' : 'none';\n",
              "\n",
              "      async function convertToInteractive(key) {\n",
              "        const element = document.querySelector('#df-f859e2fb-cc5d-423d-97b8-6db175248826');\n",
              "        const dataTable =\n",
              "          await google.colab.kernel.invokeFunction('convertToInteractive',\n",
              "                                                    [key], {});\n",
              "        if (!dataTable) return;\n",
              "\n",
              "        const docLinkHtml = 'Like what you see? Visit the ' +\n",
              "          '<a target=\"_blank\" href=https://colab.research.google.com/notebooks/data_table.ipynb>data table notebook</a>'\n",
              "          + ' to learn more about interactive tables.';\n",
              "        element.innerHTML = '';\n",
              "        dataTable['output_type'] = 'display_data';\n",
              "        await google.colab.output.renderOutput(dataTable, element);\n",
              "        const docLink = document.createElement('div');\n",
              "        docLink.innerHTML = docLinkHtml;\n",
              "        element.appendChild(docLink);\n",
              "      }\n",
              "    </script>\n",
              "  </div>\n",
              "\n",
              "\n",
              "<div id=\"df-e78f7539-e8a5-454b-95d5-4750f5cb2dd8\">\n",
              "  <button class=\"colab-df-quickchart\" onclick=\"quickchart('df-e78f7539-e8a5-454b-95d5-4750f5cb2dd8')\"\n",
              "            title=\"Suggest charts\"\n",
              "            style=\"display:none;\">\n",
              "\n",
              "<svg xmlns=\"http://www.w3.org/2000/svg\" height=\"24px\"viewBox=\"0 0 24 24\"\n",
              "     width=\"24px\">\n",
              "    <g>\n",
              "        <path d=\"M19 3H5c-1.1 0-2 .9-2 2v14c0 1.1.9 2 2 2h14c1.1 0 2-.9 2-2V5c0-1.1-.9-2-2-2zM9 17H7v-7h2v7zm4 0h-2V7h2v10zm4 0h-2v-4h2v4z\"/>\n",
              "    </g>\n",
              "</svg>\n",
              "  </button>\n",
              "\n",
              "<style>\n",
              "  .colab-df-quickchart {\n",
              "      --bg-color: #E8F0FE;\n",
              "      --fill-color: #1967D2;\n",
              "      --hover-bg-color: #E2EBFA;\n",
              "      --hover-fill-color: #174EA6;\n",
              "      --disabled-fill-color: #AAA;\n",
              "      --disabled-bg-color: #DDD;\n",
              "  }\n",
              "\n",
              "  [theme=dark] .colab-df-quickchart {\n",
              "      --bg-color: #3B4455;\n",
              "      --fill-color: #D2E3FC;\n",
              "      --hover-bg-color: #434B5C;\n",
              "      --hover-fill-color: #FFFFFF;\n",
              "      --disabled-bg-color: #3B4455;\n",
              "      --disabled-fill-color: #666;\n",
              "  }\n",
              "\n",
              "  .colab-df-quickchart {\n",
              "    background-color: var(--bg-color);\n",
              "    border: none;\n",
              "    border-radius: 50%;\n",
              "    cursor: pointer;\n",
              "    display: none;\n",
              "    fill: var(--fill-color);\n",
              "    height: 32px;\n",
              "    padding: 0;\n",
              "    width: 32px;\n",
              "  }\n",
              "\n",
              "  .colab-df-quickchart:hover {\n",
              "    background-color: var(--hover-bg-color);\n",
              "    box-shadow: 0 1px 2px rgba(60, 64, 67, 0.3), 0 1px 3px 1px rgba(60, 64, 67, 0.15);\n",
              "    fill: var(--button-hover-fill-color);\n",
              "  }\n",
              "\n",
              "  .colab-df-quickchart-complete:disabled,\n",
              "  .colab-df-quickchart-complete:disabled:hover {\n",
              "    background-color: var(--disabled-bg-color);\n",
              "    fill: var(--disabled-fill-color);\n",
              "    box-shadow: none;\n",
              "  }\n",
              "\n",
              "  .colab-df-spinner {\n",
              "    border: 2px solid var(--fill-color);\n",
              "    border-color: transparent;\n",
              "    border-bottom-color: var(--fill-color);\n",
              "    animation:\n",
              "      spin 1s steps(1) infinite;\n",
              "  }\n",
              "\n",
              "  @keyframes spin {\n",
              "    0% {\n",
              "      border-color: transparent;\n",
              "      border-bottom-color: var(--fill-color);\n",
              "      border-left-color: var(--fill-color);\n",
              "    }\n",
              "    20% {\n",
              "      border-color: transparent;\n",
              "      border-left-color: var(--fill-color);\n",
              "      border-top-color: var(--fill-color);\n",
              "    }\n",
              "    30% {\n",
              "      border-color: transparent;\n",
              "      border-left-color: var(--fill-color);\n",
              "      border-top-color: var(--fill-color);\n",
              "      border-right-color: var(--fill-color);\n",
              "    }\n",
              "    40% {\n",
              "      border-color: transparent;\n",
              "      border-right-color: var(--fill-color);\n",
              "      border-top-color: var(--fill-color);\n",
              "    }\n",
              "    60% {\n",
              "      border-color: transparent;\n",
              "      border-right-color: var(--fill-color);\n",
              "    }\n",
              "    80% {\n",
              "      border-color: transparent;\n",
              "      border-right-color: var(--fill-color);\n",
              "      border-bottom-color: var(--fill-color);\n",
              "    }\n",
              "    90% {\n",
              "      border-color: transparent;\n",
              "      border-bottom-color: var(--fill-color);\n",
              "    }\n",
              "  }\n",
              "</style>\n",
              "\n",
              "  <script>\n",
              "    async function quickchart(key) {\n",
              "      const quickchartButtonEl =\n",
              "        document.querySelector('#' + key + ' button');\n",
              "      quickchartButtonEl.disabled = true;  // To prevent multiple clicks.\n",
              "      quickchartButtonEl.classList.add('colab-df-spinner');\n",
              "      try {\n",
              "        const charts = await google.colab.kernel.invokeFunction(\n",
              "            'suggestCharts', [key], {});\n",
              "      } catch (error) {\n",
              "        console.error('Error during call to suggestCharts:', error);\n",
              "      }\n",
              "      quickchartButtonEl.classList.remove('colab-df-spinner');\n",
              "      quickchartButtonEl.classList.add('colab-df-quickchart-complete');\n",
              "    }\n",
              "    (() => {\n",
              "      let quickchartButtonEl =\n",
              "        document.querySelector('#df-e78f7539-e8a5-454b-95d5-4750f5cb2dd8 button');\n",
              "      quickchartButtonEl.style.display =\n",
              "        google.colab.kernel.accessAllowed ? 'block' : 'none';\n",
              "    })();\n",
              "  </script>\n",
              "</div>\n",
              "    </div>\n",
              "  </div>\n"
            ],
            "application/vnd.google.colaboratory.intrinsic+json": {
              "type": "dataframe",
              "repr_error": "'str' object has no attribute 'empty'"
            }
          },
          "metadata": {},
          "execution_count": 8
        }
      ]
    }
  ]
}
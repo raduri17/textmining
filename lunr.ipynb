{
  "nbformat": 4,
  "nbformat_minor": 0,
  "metadata": {
    "colab": {
      "provenance": []
    },
    "kernelspec": {
      "name": "python3",
      "display_name": "Python 3"
    },
    "language_info": {
      "name": "python"
    }
  },
  "cells": [
    {
      "cell_type": "markdown",
      "source": [
        "### **Lunr**\n",
        "\n",
        "Lunr is a lightweight full-text search engine for the web. Lunr.js provides a simple and powerful interface for indexing and searching textual data in JavaScript applications."
      ],
      "metadata": {
        "id": "UGkJNHA-Bdm3"
      }
    },
    {
      "cell_type": "code",
      "source": [
        "!pip install lunr"
      ],
      "metadata": {
        "colab": {
          "base_uri": "https://localhost:8080/"
        },
        "id": "eJ0O-dlKpA_C",
        "outputId": "6fd6c52a-8a5d-40f4-a05f-1f5a389a325d"
      },
      "execution_count": 3,
      "outputs": [
        {
          "output_type": "stream",
          "name": "stdout",
          "text": [
            "Collecting lunr\n",
            "  Downloading lunr-0.7.0.post1-py3-none-any.whl (35 kB)\n",
            "Installing collected packages: lunr\n",
            "Successfully installed lunr-0.7.0.post1\n"
          ]
        }
      ]
    },
    {
      "cell_type": "code",
      "execution_count": 4,
      "metadata": {
        "id": "w7bnMeY2n3ys"
      },
      "outputs": [],
      "source": [
        "import pandas as pd\n",
        "import json\n",
        "from lunr import lunr\n",
        "from lunr.index import Index"
      ]
    },
    {
      "cell_type": "markdown",
      "source": [
        "Importing Data"
      ],
      "metadata": {
        "id": "8Bv4sUI8CO4E"
      }
    },
    {
      "cell_type": "code",
      "source": [
        "df = pd.read_csv(\"/clinc.csv\").assign(idx=lambda d: d.index)\n",
        "df.sample(3)"
      ],
      "metadata": {
        "colab": {
          "base_uri": "https://localhost:8080/",
          "height": 143
        },
        "id": "BV7uPiJEo5eJ",
        "outputId": "1caaf1e0-f175-4277-f2d7-af9038bf64ea"
      },
      "execution_count": 6,
      "outputs": [
        {
          "output_type": "execute_result",
          "data": {
            "text/plain": [
              "                                          text     label    idx\n",
              "12101            where is the w-2 form located        w2  12101\n",
              "22817  i need tips on how to overcome insomnia       oos  22817\n",
              "10683           tell me how much pto i've used  pto_used  10683"
            ],
            "text/html": [
              "\n",
              "  <div id=\"df-ec2cdb0f-0aee-4246-abe8-9e2f8ac84942\" class=\"colab-df-container\">\n",
              "    <div>\n",
              "<style scoped>\n",
              "    .dataframe tbody tr th:only-of-type {\n",
              "        vertical-align: middle;\n",
              "    }\n",
              "\n",
              "    .dataframe tbody tr th {\n",
              "        vertical-align: top;\n",
              "    }\n",
              "\n",
              "    .dataframe thead th {\n",
              "        text-align: right;\n",
              "    }\n",
              "</style>\n",
              "<table border=\"1\" class=\"dataframe\">\n",
              "  <thead>\n",
              "    <tr style=\"text-align: right;\">\n",
              "      <th></th>\n",
              "      <th>text</th>\n",
              "      <th>label</th>\n",
              "      <th>idx</th>\n",
              "    </tr>\n",
              "  </thead>\n",
              "  <tbody>\n",
              "    <tr>\n",
              "      <th>12101</th>\n",
              "      <td>where is the w-2 form located</td>\n",
              "      <td>w2</td>\n",
              "      <td>12101</td>\n",
              "    </tr>\n",
              "    <tr>\n",
              "      <th>22817</th>\n",
              "      <td>i need tips on how to overcome insomnia</td>\n",
              "      <td>oos</td>\n",
              "      <td>22817</td>\n",
              "    </tr>\n",
              "    <tr>\n",
              "      <th>10683</th>\n",
              "      <td>tell me how much pto i've used</td>\n",
              "      <td>pto_used</td>\n",
              "      <td>10683</td>\n",
              "    </tr>\n",
              "  </tbody>\n",
              "</table>\n",
              "</div>\n",
              "    <div class=\"colab-df-buttons\">\n",
              "\n",
              "  <div class=\"colab-df-container\">\n",
              "    <button class=\"colab-df-convert\" onclick=\"convertToInteractive('df-ec2cdb0f-0aee-4246-abe8-9e2f8ac84942')\"\n",
              "            title=\"Convert this dataframe to an interactive table.\"\n",
              "            style=\"display:none;\">\n",
              "\n",
              "  <svg xmlns=\"http://www.w3.org/2000/svg\" height=\"24px\" viewBox=\"0 -960 960 960\">\n",
              "    <path d=\"M120-120v-720h720v720H120Zm60-500h600v-160H180v160Zm220 220h160v-160H400v160Zm0 220h160v-160H400v160ZM180-400h160v-160H180v160Zm440 0h160v-160H620v160ZM180-180h160v-160H180v160Zm440 0h160v-160H620v160Z\"/>\n",
              "  </svg>\n",
              "    </button>\n",
              "\n",
              "  <style>\n",
              "    .colab-df-container {\n",
              "      display:flex;\n",
              "      gap: 12px;\n",
              "    }\n",
              "\n",
              "    .colab-df-convert {\n",
              "      background-color: #E8F0FE;\n",
              "      border: none;\n",
              "      border-radius: 50%;\n",
              "      cursor: pointer;\n",
              "      display: none;\n",
              "      fill: #1967D2;\n",
              "      height: 32px;\n",
              "      padding: 0 0 0 0;\n",
              "      width: 32px;\n",
              "    }\n",
              "\n",
              "    .colab-df-convert:hover {\n",
              "      background-color: #E2EBFA;\n",
              "      box-shadow: 0px 1px 2px rgba(60, 64, 67, 0.3), 0px 1px 3px 1px rgba(60, 64, 67, 0.15);\n",
              "      fill: #174EA6;\n",
              "    }\n",
              "\n",
              "    .colab-df-buttons div {\n",
              "      margin-bottom: 4px;\n",
              "    }\n",
              "\n",
              "    [theme=dark] .colab-df-convert {\n",
              "      background-color: #3B4455;\n",
              "      fill: #D2E3FC;\n",
              "    }\n",
              "\n",
              "    [theme=dark] .colab-df-convert:hover {\n",
              "      background-color: #434B5C;\n",
              "      box-shadow: 0px 1px 3px 1px rgba(0, 0, 0, 0.15);\n",
              "      filter: drop-shadow(0px 1px 2px rgba(0, 0, 0, 0.3));\n",
              "      fill: #FFFFFF;\n",
              "    }\n",
              "  </style>\n",
              "\n",
              "    <script>\n",
              "      const buttonEl =\n",
              "        document.querySelector('#df-ec2cdb0f-0aee-4246-abe8-9e2f8ac84942 button.colab-df-convert');\n",
              "      buttonEl.style.display =\n",
              "        google.colab.kernel.accessAllowed ? 'block' : 'none';\n",
              "\n",
              "      async function convertToInteractive(key) {\n",
              "        const element = document.querySelector('#df-ec2cdb0f-0aee-4246-abe8-9e2f8ac84942');\n",
              "        const dataTable =\n",
              "          await google.colab.kernel.invokeFunction('convertToInteractive',\n",
              "                                                    [key], {});\n",
              "        if (!dataTable) return;\n",
              "\n",
              "        const docLinkHtml = 'Like what you see? Visit the ' +\n",
              "          '<a target=\"_blank\" href=https://colab.research.google.com/notebooks/data_table.ipynb>data table notebook</a>'\n",
              "          + ' to learn more about interactive tables.';\n",
              "        element.innerHTML = '';\n",
              "        dataTable['output_type'] = 'display_data';\n",
              "        await google.colab.output.renderOutput(dataTable, element);\n",
              "        const docLink = document.createElement('div');\n",
              "        docLink.innerHTML = docLinkHtml;\n",
              "        element.appendChild(docLink);\n",
              "      }\n",
              "    </script>\n",
              "  </div>\n",
              "\n",
              "\n",
              "<div id=\"df-d20bd928-0ca0-4feb-a6d5-6a2806a18ee2\">\n",
              "  <button class=\"colab-df-quickchart\" onclick=\"quickchart('df-d20bd928-0ca0-4feb-a6d5-6a2806a18ee2')\"\n",
              "            title=\"Suggest charts\"\n",
              "            style=\"display:none;\">\n",
              "\n",
              "<svg xmlns=\"http://www.w3.org/2000/svg\" height=\"24px\"viewBox=\"0 0 24 24\"\n",
              "     width=\"24px\">\n",
              "    <g>\n",
              "        <path d=\"M19 3H5c-1.1 0-2 .9-2 2v14c0 1.1.9 2 2 2h14c1.1 0 2-.9 2-2V5c0-1.1-.9-2-2-2zM9 17H7v-7h2v7zm4 0h-2V7h2v10zm4 0h-2v-4h2v4z\"/>\n",
              "    </g>\n",
              "</svg>\n",
              "  </button>\n",
              "\n",
              "<style>\n",
              "  .colab-df-quickchart {\n",
              "      --bg-color: #E8F0FE;\n",
              "      --fill-color: #1967D2;\n",
              "      --hover-bg-color: #E2EBFA;\n",
              "      --hover-fill-color: #174EA6;\n",
              "      --disabled-fill-color: #AAA;\n",
              "      --disabled-bg-color: #DDD;\n",
              "  }\n",
              "\n",
              "  [theme=dark] .colab-df-quickchart {\n",
              "      --bg-color: #3B4455;\n",
              "      --fill-color: #D2E3FC;\n",
              "      --hover-bg-color: #434B5C;\n",
              "      --hover-fill-color: #FFFFFF;\n",
              "      --disabled-bg-color: #3B4455;\n",
              "      --disabled-fill-color: #666;\n",
              "  }\n",
              "\n",
              "  .colab-df-quickchart {\n",
              "    background-color: var(--bg-color);\n",
              "    border: none;\n",
              "    border-radius: 50%;\n",
              "    cursor: pointer;\n",
              "    display: none;\n",
              "    fill: var(--fill-color);\n",
              "    height: 32px;\n",
              "    padding: 0;\n",
              "    width: 32px;\n",
              "  }\n",
              "\n",
              "  .colab-df-quickchart:hover {\n",
              "    background-color: var(--hover-bg-color);\n",
              "    box-shadow: 0 1px 2px rgba(60, 64, 67, 0.3), 0 1px 3px 1px rgba(60, 64, 67, 0.15);\n",
              "    fill: var(--button-hover-fill-color);\n",
              "  }\n",
              "\n",
              "  .colab-df-quickchart-complete:disabled,\n",
              "  .colab-df-quickchart-complete:disabled:hover {\n",
              "    background-color: var(--disabled-bg-color);\n",
              "    fill: var(--disabled-fill-color);\n",
              "    box-shadow: none;\n",
              "  }\n",
              "\n",
              "  .colab-df-spinner {\n",
              "    border: 2px solid var(--fill-color);\n",
              "    border-color: transparent;\n",
              "    border-bottom-color: var(--fill-color);\n",
              "    animation:\n",
              "      spin 1s steps(1) infinite;\n",
              "  }\n",
              "\n",
              "  @keyframes spin {\n",
              "    0% {\n",
              "      border-color: transparent;\n",
              "      border-bottom-color: var(--fill-color);\n",
              "      border-left-color: var(--fill-color);\n",
              "    }\n",
              "    20% {\n",
              "      border-color: transparent;\n",
              "      border-left-color: var(--fill-color);\n",
              "      border-top-color: var(--fill-color);\n",
              "    }\n",
              "    30% {\n",
              "      border-color: transparent;\n",
              "      border-left-color: var(--fill-color);\n",
              "      border-top-color: var(--fill-color);\n",
              "      border-right-color: var(--fill-color);\n",
              "    }\n",
              "    40% {\n",
              "      border-color: transparent;\n",
              "      border-right-color: var(--fill-color);\n",
              "      border-top-color: var(--fill-color);\n",
              "    }\n",
              "    60% {\n",
              "      border-color: transparent;\n",
              "      border-right-color: var(--fill-color);\n",
              "    }\n",
              "    80% {\n",
              "      border-color: transparent;\n",
              "      border-right-color: var(--fill-color);\n",
              "      border-bottom-color: var(--fill-color);\n",
              "    }\n",
              "    90% {\n",
              "      border-color: transparent;\n",
              "      border-bottom-color: var(--fill-color);\n",
              "    }\n",
              "  }\n",
              "</style>\n",
              "\n",
              "  <script>\n",
              "    async function quickchart(key) {\n",
              "      const quickchartButtonEl =\n",
              "        document.querySelector('#' + key + ' button');\n",
              "      quickchartButtonEl.disabled = true;  // To prevent multiple clicks.\n",
              "      quickchartButtonEl.classList.add('colab-df-spinner');\n",
              "      try {\n",
              "        const charts = await google.colab.kernel.invokeFunction(\n",
              "            'suggestCharts', [key], {});\n",
              "      } catch (error) {\n",
              "        console.error('Error during call to suggestCharts:', error);\n",
              "      }\n",
              "      quickchartButtonEl.classList.remove('colab-df-spinner');\n",
              "      quickchartButtonEl.classList.add('colab-df-quickchart-complete');\n",
              "    }\n",
              "    (() => {\n",
              "      let quickchartButtonEl =\n",
              "        document.querySelector('#df-d20bd928-0ca0-4feb-a6d5-6a2806a18ee2 button');\n",
              "      quickchartButtonEl.style.display =\n",
              "        google.colab.kernel.accessAllowed ? 'block' : 'none';\n",
              "    })();\n",
              "  </script>\n",
              "</div>\n",
              "    </div>\n",
              "  </div>\n"
            ],
            "application/vnd.google.colaboratory.intrinsic+json": {
              "type": "dataframe",
              "summary": "{\n  \"name\": \"df\",\n  \"rows\": 3,\n  \"fields\": [\n    {\n      \"column\": \"text\",\n      \"properties\": {\n        \"dtype\": \"string\",\n        \"samples\": [\n          \"where is the w-2 form located\",\n          \"i need tips on how to overcome insomnia\",\n          \"tell me how much pto i've used\"\n        ],\n        \"num_unique_values\": 3,\n        \"semantic_type\": \"\",\n        \"description\": \"\"\n      }\n    },\n    {\n      \"column\": \"label\",\n      \"properties\": {\n        \"dtype\": \"string\",\n        \"samples\": [\n          \"w2\",\n          \"oos\",\n          \"pto_used\"\n        ],\n        \"num_unique_values\": 3,\n        \"semantic_type\": \"\",\n        \"description\": \"\"\n      }\n    },\n    {\n      \"column\": \"idx\",\n      \"properties\": {\n        \"dtype\": \"number\",\n        \"std\": 6634,\n        \"min\": 10683,\n        \"max\": 22817,\n        \"samples\": [\n          12101,\n          22817,\n          10683\n        ],\n        \"num_unique_values\": 3,\n        \"semantic_type\": \"\",\n        \"description\": \"\"\n      }\n    }\n  ]\n}"
            }
          },
          "metadata": {},
          "execution_count": 6
        }
      ]
    },
    {
      "cell_type": "code",
      "source": [
        "documents = df.to_dict(orient=\"records\")"
      ],
      "metadata": {
        "id": "z4aIcUpNoDle"
      },
      "execution_count": 7,
      "outputs": []
    },
    {
      "cell_type": "code",
      "source": [
        "#Building index for lunr. All that we need to perform the query.\n",
        "index = lunr(ref='idx', fields=('text',), documents=documents)"
      ],
      "metadata": {
        "id": "cE9CInJSoGs4"
      },
      "execution_count": 8,
      "outputs": []
    },
    {
      "cell_type": "code",
      "source": [
        "index.search('spanish')"
      ],
      "metadata": {
        "colab": {
          "base_uri": "https://localhost:8080/"
        },
        "id": "xTuCcKX7oNbm",
        "outputId": "3a5bd0e1-e577-4b9d-baf4-209a06b79e90"
      },
      "execution_count": 9,
      "outputs": [
        {
          "output_type": "execute_result",
          "data": {
            "text/plain": [
              "[{'ref': '4501', 'score': 7.801, 'match_data': <MatchData \"spanish\">},\n",
              " {'ref': '3', 'score': 7.62, 'match_data': <MatchData \"spanish\">},\n",
              " {'ref': '26', 'score': 7.62, 'match_data': <MatchData \"spanish\">},\n",
              " {'ref': '27', 'score': 7.62, 'match_data': <MatchData \"spanish\">},\n",
              " {'ref': '28', 'score': 7.62, 'match_data': <MatchData \"spanish\">},\n",
              " {'ref': '4526', 'score': 7.62, 'match_data': <MatchData \"spanish\">},\n",
              " {'ref': '4529', 'score': 7.62, 'match_data': <MatchData \"spanish\">},\n",
              " {'ref': '4556', 'score': 7.62, 'match_data': <MatchData \"spanish\">},\n",
              " {'ref': '4573', 'score': 7.62, 'match_data': <MatchData \"spanish\">},\n",
              " {'ref': '4575', 'score': 7.62, 'match_data': <MatchData \"spanish\">},\n",
              " {'ref': '4576', 'score': 7.62, 'match_data': <MatchData \"spanish\">},\n",
              " {'ref': '4585', 'score': 7.62, 'match_data': <MatchData \"spanish\">},\n",
              " {'ref': '5638', 'score': 7.62, 'match_data': <MatchData \"spanish\">},\n",
              " {'ref': '19505', 'score': 7.62, 'match_data': <MatchData \"spanish\">},\n",
              " {'ref': '19507', 'score': 7.62, 'match_data': <MatchData \"spanish\">},\n",
              " {'ref': '25', 'score': 6.767, 'match_data': <MatchData \"spanish\">},\n",
              " {'ref': '334', 'score': 6.767, 'match_data': <MatchData \"spanish\">},\n",
              " {'ref': '342', 'score': 6.767, 'match_data': <MatchData \"spanish\">},\n",
              " {'ref': '348', 'score': 6.767, 'match_data': <MatchData \"spanish\">},\n",
              " {'ref': '350', 'score': 6.767, 'match_data': <MatchData \"spanish\">},\n",
              " {'ref': '4546', 'score': 6.767, 'match_data': <MatchData \"spanish\">},\n",
              " {'ref': '4550', 'score': 6.767, 'match_data': <MatchData \"spanish\">},\n",
              " {'ref': '4559', 'score': 6.767, 'match_data': <MatchData \"spanish\">},\n",
              " {'ref': '4574', 'score': 6.767, 'match_data': <MatchData \"spanish\">},\n",
              " {'ref': '4577', 'score': 6.767, 'match_data': <MatchData \"spanish\">},\n",
              " {'ref': '4579', 'score': 6.767, 'match_data': <MatchData \"spanish\">},\n",
              " {'ref': '4595', 'score': 6.767, 'match_data': <MatchData \"spanish\">},\n",
              " {'ref': '4598', 'score': 6.767, 'match_data': <MatchData \"spanish\">},\n",
              " {'ref': '5619', 'score': 6.767, 'match_data': <MatchData \"spanish\">},\n",
              " {'ref': '5627', 'score': 6.767, 'match_data': <MatchData \"spanish\">},\n",
              " {'ref': '5639', 'score': 6.767, 'match_data': <MatchData \"spanish\">},\n",
              " {'ref': '5640', 'score': 6.767, 'match_data': <MatchData \"spanish\">},\n",
              " {'ref': '5644', 'score': 6.767, 'match_data': <MatchData \"spanish\">},\n",
              " {'ref': '5654', 'score': 6.767, 'match_data': <MatchData \"spanish\">},\n",
              " {'ref': '5672', 'score': 6.767, 'match_data': <MatchData \"spanish\">},\n",
              " {'ref': '19500', 'score': 6.767, 'match_data': <MatchData \"spanish\">},\n",
              " {'ref': '1', 'score': 6.085, 'match_data': <MatchData \"spanish\">},\n",
              " {'ref': '12', 'score': 6.085, 'match_data': <MatchData \"spanish\">},\n",
              " {'ref': '29', 'score': 6.085, 'match_data': <MatchData \"spanish\">},\n",
              " {'ref': '343', 'score': 6.085, 'match_data': <MatchData \"spanish\">},\n",
              " {'ref': '4510', 'score': 6.085, 'match_data': <MatchData \"spanish\">},\n",
              " {'ref': '4527', 'score': 6.085, 'match_data': <MatchData \"spanish\">},\n",
              " {'ref': '4543', 'score': 6.085, 'match_data': <MatchData \"spanish\">},\n",
              " {'ref': '4592', 'score': 6.085, 'match_data': <MatchData \"spanish\">},\n",
              " {'ref': '5604', 'score': 6.085, 'match_data': <MatchData \"spanish\">},\n",
              " {'ref': '5618', 'score': 6.085, 'match_data': <MatchData \"spanish\">},\n",
              " {'ref': '5621', 'score': 6.085, 'match_data': <MatchData \"spanish\">},\n",
              " {'ref': '5625', 'score': 6.085, 'match_data': <MatchData \"spanish\">},\n",
              " {'ref': '5647', 'score': 6.085, 'match_data': <MatchData \"spanish\">},\n",
              " {'ref': '5664', 'score': 6.085, 'match_data': <MatchData \"spanish\">},\n",
              " {'ref': '18182', 'score': 6.085, 'match_data': <MatchData \"spanish\">},\n",
              " {'ref': '19517', 'score': 6.085, 'match_data': <MatchData \"spanish\">},\n",
              " {'ref': '19727', 'score': 6.085, 'match_data': <MatchData \"spanish\">},\n",
              " {'ref': '5611', 'score': 5.528, 'match_data': <MatchData \"spanish\">},\n",
              " {'ref': '5692', 'score': 5.528, 'match_data': <MatchData \"spanish\">},\n",
              " {'ref': '5697', 'score': 5.528, 'match_data': <MatchData \"spanish\">},\n",
              " {'ref': '19726', 'score': 5.065, 'match_data': <MatchData \"spanish\">}]"
            ]
          },
          "metadata": {},
          "execution_count": 9
        }
      ]
    },
    {
      "cell_type": "code",
      "source": [
        "[documents[int(i['ref'])] for i in index.search('spanish')]"
      ],
      "metadata": {
        "colab": {
          "base_uri": "https://localhost:8080/"
        },
        "id": "m7n4JzbMoN87",
        "outputId": "ffec2f47-79b8-45cb-c787-a36272ea2b7d"
      },
      "execution_count": 10,
      "outputs": [
        {
          "output_type": "execute_result",
          "data": {
            "text/plain": [
              "[{'text': \"can you tell me how to say 'i do not speak much spanish', in spanish\",\n",
              "  'label': 'translate',\n",
              "  'idx': 4501},\n",
              " {'text': 'how do you say fast in spanish', 'label': 'translate', 'idx': 3},\n",
              " {'text': 'what is dog in spanish', 'label': 'translate', 'idx': 26},\n",
              " {'text': 'how do you say dog in spanish', 'label': 'translate', 'idx': 27},\n",
              " {'text': 'dog in spanish', 'label': 'translate', 'idx': 28},\n",
              " {'text': 'how can i say not now in spanish',\n",
              "  'label': 'translate',\n",
              "  'idx': 4526},\n",
              " {'text': 'how do you say goodbye in spanish',\n",
              "  'label': 'translate',\n",
              "  'idx': 4529},\n",
              " {'text': 'what is spanish for hello', 'label': 'translate', 'idx': 4556},\n",
              " {'text': 'how do you say thank you in spanish',\n",
              "  'label': 'translate',\n",
              "  'idx': 4573},\n",
              " {'text': 'how can i say thank you in spanish',\n",
              "  'label': 'translate',\n",
              "  'idx': 4575},\n",
              " {'text': 'what is thank you in spanish', 'label': 'translate', 'idx': 4576},\n",
              " {'text': 'how do you say cat in spanish', 'label': 'translate', 'idx': 4585},\n",
              " {'text': 'can you talk in spanish', 'label': 'change_language', 'idx': 5638},\n",
              " {'text': 'how do i say dinner in spanish',\n",
              "  'label': 'translate',\n",
              "  'idx': 19505},\n",
              " {'text': 'how do i say thank you in spanish',\n",
              "  'label': 'translate',\n",
              "  'idx': 19507},\n",
              " {'text': 'english to spanish for dog', 'label': 'translate', 'idx': 25},\n",
              " {'text': 'speak spanish please', 'label': 'change_language', 'idx': 334},\n",
              " {'text': 'i want to use spanish with you',\n",
              "  'label': 'change_language',\n",
              "  'idx': 342},\n",
              " {'text': \"i'd like the language to be in spanish\",\n",
              "  'label': 'change_language',\n",
              "  'idx': 348},\n",
              " {'text': 'can i speak spanish to you hombre',\n",
              "  'label': 'change_language',\n",
              "  'idx': 350},\n",
              " {'text': 'what is the word for hello spanish',\n",
              "  'label': 'translate',\n",
              "  'idx': 4546},\n",
              " {'text': 'tell me how to say hello in spanish',\n",
              "  'label': 'translate',\n",
              "  'idx': 4550},\n",
              " {'text': 'what is spanish for good morning',\n",
              "  'label': 'translate',\n",
              "  'idx': 4559},\n",
              " {'text': 'how does one say thank you in spanish',\n",
              "  'label': 'translate',\n",
              "  'idx': 4574},\n",
              " {'text': 'what is the way to say thank you in spanish',\n",
              "  'label': 'translate',\n",
              "  'idx': 4577},\n",
              " {'text': 'how do they say \"where\\'s the bathroom\" in spanish',\n",
              "  'label': 'translate',\n",
              "  'idx': 4579},\n",
              " {'text': 'can you translate hi into spanish for me',\n",
              "  'label': 'translate',\n",
              "  'idx': 4595},\n",
              " {'text': 'can you translate milk into spanish for me',\n",
              "  'label': 'translate',\n",
              "  'idx': 4598},\n",
              " {'text': 'fix my language to spanish',\n",
              "  'label': 'change_language',\n",
              "  'idx': 5619},\n",
              " {'text': 'please respond to me in spanish',\n",
              "  'label': 'change_language',\n",
              "  'idx': 5627},\n",
              " {'text': 'can i start talking to you in spanish',\n",
              "  'label': 'change_language',\n",
              "  'idx': 5639},\n",
              " {'text': 'please talk to me in spanish',\n",
              "  'label': 'change_language',\n",
              "  'idx': 5640},\n",
              " {'text': 'talk to me in spanish from now on',\n",
              "  'label': 'change_language',\n",
              "  'idx': 5644},\n",
              " {'text': 'is it possible to only talk in spanish',\n",
              "  'label': 'change_language',\n",
              "  'idx': 5654},\n",
              " {'text': 'start talking in spanish', 'label': 'change_language', 'idx': 5672},\n",
              " {'text': 'in spanish, meet me tomorrow is said how',\n",
              "  'label': 'translate',\n",
              "  'idx': 19500},\n",
              " {'text': \"what's the spanish word for pasta\", 'label': 'translate', 'idx': 1},\n",
              " {'text': 'what is the right way to say excuse me in spanish',\n",
              "  'label': 'translate',\n",
              "  'idx': 12},\n",
              " {'text': \"what's the spanish word for dog\", 'label': 'translate', 'idx': 29},\n",
              " {'text': \"please let's speak in spanish\",\n",
              "  'label': 'change_language',\n",
              "  'idx': 343},\n",
              " {'text': \"how would i say, 'i don't know the answer' in spanish\",\n",
              "  'label': 'translate',\n",
              "  'idx': 4510},\n",
              " {'text': 'what do spanish people say for the word cow',\n",
              "  'label': 'translate',\n",
              "  'idx': 4527},\n",
              " {'text': 'what spanish word means hello', 'label': 'translate', 'idx': 4543},\n",
              " {'text': 'i wanna know a phrase in spanish',\n",
              "  'label': 'translate',\n",
              "  'idx': 4592},\n",
              " {'text': 'i would like to have language set to spanish, please',\n",
              "  'label': 'change_language',\n",
              "  'idx': 5604},\n",
              " {'text': 'i need to change language to spanish',\n",
              "  'label': 'change_language',\n",
              "  'idx': 5618},\n",
              " {'text': 'i need to change my speaking to spanish',\n",
              "  'label': 'change_language',\n",
              "  'idx': 5621},\n",
              " {'text': 'change your language to spanish please',\n",
              "  'label': 'change_language',\n",
              "  'idx': 5625},\n",
              " {'text': 'i want to use spanish as my language',\n",
              "  'label': 'change_language',\n",
              "  'idx': 5647},\n",
              " {'text': 'let’s chat using spanish', 'label': 'change_language', 'idx': 5664},\n",
              " {'text': 'add mia to my spanish playlist',\n",
              "  'label': 'update_playlist',\n",
              "  'idx': 18182},\n",
              " {'text': 'can you translate this name into spanish for me, please',\n",
              "  'label': 'translate',\n",
              "  'idx': 19517},\n",
              " {'text': 'change your language setting to spanish',\n",
              "  'label': 'change_language',\n",
              "  'idx': 19727},\n",
              " {'text': 'i want us to speak to each other in spanish from now on',\n",
              "  'label': 'change_language',\n",
              "  'idx': 5611},\n",
              " {'text': 'can you start talking to me in spanish from here on out',\n",
              "  'label': 'change_language',\n",
              "  'idx': 5692},\n",
              " {'text': 'please change your language setting to spanish',\n",
              "  'label': 'change_language',\n",
              "  'idx': 5697},\n",
              " {'text': 'please change your language setting to spanish now',\n",
              "  'label': 'change_language',\n",
              "  'idx': 19726}]"
            ]
          },
          "metadata": {},
          "execution_count": 10
        }
      ]
    },
    {
      "cell_type": "markdown",
      "source": [
        "### **Serialize**\n",
        "\n",
        "To reconstruct the index. Useful when we are dealing with large indices and we want to store the intermediate results."
      ],
      "metadata": {
        "id": "7SwGb1z1CXmQ"
      }
    },
    {
      "cell_type": "code",
      "source": [
        "import json\n",
        "from lunr.index import Index\n",
        "\n",
        "serialized = index.serialize()\n",
        "\n",
        "# Save the index\n",
        "with open('idx.json', 'w') as fd:\n",
        "    json.dump(serialized, fd)\n",
        "\n",
        "# Load it again\n",
        "with open(\"idx.json\") as fd:\n",
        "    reloaded = json.loads(fd.read())\n",
        "\n",
        "idx = Index.load(reloaded)\n",
        "idx.search(\"plant\")"
      ],
      "metadata": {
        "colab": {
          "base_uri": "https://localhost:8080/"
        },
        "id": "6NSaHtF4oPzD",
        "outputId": "65053c28-b5d5-46cd-d43e-7c481c7cd7f7"
      },
      "execution_count": 13,
      "outputs": [
        {
          "output_type": "execute_result",
          "data": {
            "text/plain": [
              "[{'ref': '11998', 'score': 9.056, 'match_data': <MatchData \"plant\">},\n",
              " {'ref': '9435', 'score': 8.144, 'match_data': <MatchData \"plant\">},\n",
              " {'ref': '2097', 'score': 7.399, 'match_data': <MatchData \"plant\">},\n",
              " {'ref': '9433', 'score': 7.399, 'match_data': <MatchData \"plant\">},\n",
              " {'ref': '23246', 'score': 7.399, 'match_data': <MatchData \"plant\">},\n",
              " {'ref': '9439', 'score': 6.778, 'match_data': <MatchData \"plant\">},\n",
              " {'ref': '19441', 'score': 6.254, 'match_data': <MatchData \"plant\">}]"
            ]
          },
          "metadata": {},
          "execution_count": 13
        }
      ]
    },
    {
      "cell_type": "markdown",
      "source": [
        "\"%timeit\" line is used to measure the execution time of the corresponding search operation to compare their performance."
      ],
      "metadata": {
        "id": "do7rI22qC_gr"
      }
    },
    {
      "cell_type": "code",
      "source": [
        "#execution time of locating rows in df where the column 'text' contains the substring \"spanish\".\n",
        "%timeit df.loc[lambda d: d['text'].str.contains(\"spanish\")]\n",
        "\n",
        "#execution time of a list comprehension that iterates over a list of documents and selects those documents where the substring \"spanish\" is found in the 'text' attribute of each document.\n",
        "%timeit [d for d in documents if 'spanish' in d['text']]\n",
        "\n",
        "#execution time of searching for the term \"spanish\" using an unspecified index object\n",
        "%timeit index.search('spanish')\n",
        "\n",
        "#execution time of searching for the term \"spanish\" using an unspecified index object and then retrieving the corresponding documents from the documents list based on the search results.\n",
        "%timeit [documents[int(i['ref'])] for i in index.search('spanish')]\n",
        "\n"
      ],
      "metadata": {
        "colab": {
          "base_uri": "https://localhost:8080/"
        },
        "id": "M216G-6AoYhv",
        "outputId": "516319a8-4d4d-4cd7-a6f7-8563053b6d6b"
      },
      "execution_count": 14,
      "outputs": [
        {
          "output_type": "stream",
          "name": "stdout",
          "text": [
            "12 ms ± 748 µs per loop (mean ± std. dev. of 7 runs, 10 loops each)\n",
            "3.13 ms ± 152 µs per loop (mean ± std. dev. of 7 runs, 100 loops each)\n",
            "650 µs ± 10.2 µs per loop (mean ± std. dev. of 7 runs, 1000 loops each)\n",
            "859 µs ± 232 µs per loop (mean ± std. dev. of 7 runs, 1000 loops each)\n"
          ]
        }
      ]
    }
  ]
}